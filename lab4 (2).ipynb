{
  "nbformat": 4,
  "nbformat_minor": 0,
  "metadata": {
    "colab": {
      "name": "lab4.ipynb",
      "provenance": [],
      "collapsed_sections": [],
      "toc_visible": true
    },
    "kernelspec": {
      "name": "python3",
      "display_name": "Python 3"
    }
  },
  "cells": [
    {
      "cell_type": "code",
      "metadata": {
        "id": "qxCRvFJx8-kK",
        "colab_type": "code",
        "outputId": "5bf283bc-acf1-4f4e-a370-e4b4060ed539",
        "colab": {
          "base_uri": "https://localhost:8080/",
          "height": 55
        }
      },
      "source": [
        "from string import punctuation, whitespace\n",
        "file1='file2.txt'\n",
        "\n",
        "with open(file1, 'r') as fd:\n",
        "    words = fd.read().split()\n",
        "\n",
        "def abc(word):\n",
        "  \n",
        "   removed= ''\n",
        "   for char in word:\n",
        "     if ((char in punctuation) or (char in whitespace)):\n",
        "            pass\n",
        "     else:\n",
        "         removed+=char.lower()\n",
        "   return removed\n",
        "     \n",
        "        \n",
        "\n",
        "print ('{} has ({})'.format(file1, ([abc(word) for word in words])))\n"
      ],
      "execution_count": 3,
      "outputs": [
        {
          "output_type": "stream",
          "text": [
            "file2.txt has (['wordstring', '', 'my', 'name', 'is', 'bob', 'my', 'parents', 'names', 'are', 'emily', 'and', 'jackmy', 'parents', 'work', 'hard', 'for', 'me', 'wordstring', '', 'bob', 'is', 'a', 'good', 'boybob', 'is', 'also', 'a', 'hardworking', 'person'])\n"
          ],
          "name": "stdout"
        }
      ]
    },
    {
      "cell_type": "code",
      "metadata": {
        "id": "ZmTTvkWVDKSO",
        "colab_type": "code",
        "colab": {
          "base_uri": "https://localhost:8080/",
          "height": 244
        },
        "outputId": "e97dc93e-8cc7-4400-dd4d-7caea99e76a9"
      },
      "source": [
        "file2 = wordstring.split()\n",
        "file1='file2.txt'\n",
        "\n",
        "wordfreq = []\n",
        "for w in file2:\n",
        "    wordfreq.append(file1.count(w))\n",
        "\n",
        "print(\"String\\n\" + wordstring +\"\\n\")\n",
        "print(\"List\\n\" + str(wordlist) + \"\\n\")\n",
        "print(\"Frequencies\\n\" + str(wordfreq) + \"\\n\")\n",
        "print(\"Pairs\\n\" + str(list(zip(wordlist, wordfreq))))"
      ],
      "execution_count": 7,
      "outputs": [
        {
          "output_type": "error",
          "ename": "NameError",
          "evalue": "ignored",
          "traceback": [
            "\u001b[0;31m---------------------------------------------------------------------------\u001b[0m",
            "\u001b[0;31mNameError\u001b[0m                                 Traceback (most recent call last)",
            "\u001b[0;32m<ipython-input-7-14b62419882c>\u001b[0m in \u001b[0;36m<module>\u001b[0;34m()\u001b[0m\n\u001b[0;32m----> 1\u001b[0;31m \u001b[0mfile2\u001b[0m \u001b[0;34m=\u001b[0m \u001b[0mwordstring\u001b[0m\u001b[0;34m.\u001b[0m\u001b[0msplit\u001b[0m\u001b[0;34m(\u001b[0m\u001b[0;34m)\u001b[0m\u001b[0;34m\u001b[0m\u001b[0;34m\u001b[0m\u001b[0m\n\u001b[0m\u001b[1;32m      2\u001b[0m \u001b[0mfile1\u001b[0m\u001b[0;34m=\u001b[0m\u001b[0;34m'file2.txt'\u001b[0m\u001b[0;34m\u001b[0m\u001b[0;34m\u001b[0m\u001b[0m\n\u001b[1;32m      3\u001b[0m \u001b[0;34m\u001b[0m\u001b[0m\n\u001b[1;32m      4\u001b[0m \u001b[0mwordfreq\u001b[0m \u001b[0;34m=\u001b[0m \u001b[0;34m[\u001b[0m\u001b[0;34m]\u001b[0m\u001b[0;34m\u001b[0m\u001b[0;34m\u001b[0m\u001b[0m\n\u001b[1;32m      5\u001b[0m \u001b[0;32mfor\u001b[0m \u001b[0mw\u001b[0m \u001b[0;32min\u001b[0m \u001b[0mfile2\u001b[0m\u001b[0;34m:\u001b[0m\u001b[0;34m\u001b[0m\u001b[0;34m\u001b[0m\u001b[0m\n",
            "\u001b[0;31mNameError\u001b[0m: name 'wordstring' is not defined"
          ]
        }
      ]
    },
    {
      "cell_type": "code",
      "metadata": {
        "id": "ajQUVUiy78nP",
        "colab_type": "code",
        "colab": {}
      },
      "source": [
        "def walk(dirname):\n",
        "  for name in os.listdir(dirname):\n",
        "    path = os.path.join(dirname, name)\n",
        "    if os.path.isfile(path):\n",
        "      print (path)\n",
        "    else:walk(path)"
      ],
      "execution_count": 0,
      "outputs": []
    },
    {
      "cell_type": "code",
      "metadata": {
        "id": "mrr9KZtq9L_N",
        "colab_type": "code",
        "colab": {}
      },
      "source": [
        "import hashlib\n",
        "\n",
        "\n",
        "data1 = getmd5.read()\n",
        "data2 = getmd5.read()\n",
        "if data1 == data2:\n",
        "  print(\"they are equal\")"
      ],
      "execution_count": 0,
      "outputs": []
    },
    {
      "cell_type": "code",
      "metadata": {
        "id": "5cQLyw6L9ZjY",
        "colab_type": "code",
        "colab": {}
      },
      "source": [
        "import os\n",
        "\n",
        "help(os.path)"
      ],
      "execution_count": 0,
      "outputs": []
    }
  ]
}